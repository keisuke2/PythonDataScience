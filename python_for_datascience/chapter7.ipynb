{
 "cells": [
  {
   "cell_type": "code",
   "execution_count": 1,
   "metadata": {
    "collapsed": true
   },
   "outputs": [],
   "source": [
    "%matplotlib inline\n",
    "\n",
    "import numpy as np\n",
    "import pandas as pd\n",
    "import matplotlib.pyplot as plt\n",
    "\n",
    "plt.style.use(\"ggplot\")\n",
    "plt.rcParams[\"font.size\"] = 14\n",
    "plt.rcParams[\"figure.figsize\"] = 8, 6"
   ]
  },
  {
   "cell_type": "code",
   "execution_count": 9,
   "metadata": {
    "collapsed": true
   },
   "outputs": [],
   "source": [
    "X = pd.read_csv(\"iris.csv\")\n",
    "y = X.pop(\"Species\")\n",
    "\n",
    "from sklearn import cross_validation\n",
    "x_train, x_test, y_train, y_test = cross_validation.train_test_split(\n",
    "    X.values, y.values, test_size=0.1)"
   ]
  },
  {
   "cell_type": "code",
   "execution_count": 10,
   "metadata": {
    "collapsed": true
   },
   "outputs": [],
   "source": [
    "from sklearn.neighbors import KNeighborsClassifier\n",
    "knn = KNeighborsClassifier(3).fit(x_train, y_train)"
   ]
  },
  {
   "cell_type": "code",
   "execution_count": 11,
   "metadata": {
    "collapsed": false
   },
   "outputs": [
    {
     "name": "stdout",
     "output_type": "stream",
     "text": [
      "virginica virginica\n",
      "virginica versicolor\n",
      "versicolor versicolor\n",
      "versicolor versicolor\n",
      "setosa setosa\n",
      "setosa setosa\n",
      "versicolor versicolor\n",
      "setosa setosa\n",
      "virginica virginica\n",
      "virginica virginica\n",
      "versicolor versicolor\n",
      "virginica virginica\n",
      "setosa setosa\n",
      "versicolor versicolor\n",
      "setosa setosa\n"
     ]
    }
   ],
   "source": [
    "for y_pred, y_true in zip(knn.predict(x_test), y_test):\n",
    "    print(y_pred, y_true)"
   ]
  },
  {
   "cell_type": "code",
   "execution_count": 12,
   "metadata": {
    "collapsed": false
   },
   "outputs": [
    {
     "name": "stdout",
     "output_type": "stream",
     "text": [
      "0.933333333333\n"
     ]
    }
   ],
   "source": [
    "print(knn.score(x_test, y_test))"
   ]
  },
  {
   "cell_type": "code",
   "execution_count": 13,
   "metadata": {
    "collapsed": false
   },
   "outputs": [
    {
     "name": "stdout",
     "output_type": "stream",
     "text": [
      "0.966666666667\n"
     ]
    }
   ],
   "source": [
    "scores = cross_validation.cross_val_score(KNeighborsClassifier(3), X, y, cv=5)\n",
    "mean_score = scores.mean()\n",
    "print(mean_score)"
   ]
  },
  {
   "cell_type": "code",
   "execution_count": 14,
   "metadata": {
    "collapsed": false
   },
   "outputs": [
    {
     "name": "stdout",
     "output_type": "stream",
     "text": [
      "1 0.96\n",
      "2 0.946666666667\n",
      "3 0.966666666667\n",
      "4 0.973333333333\n",
      "5 0.973333333333\n",
      "6 0.98\n",
      "7 0.98\n",
      "8 0.966666666667\n",
      "9 0.973333333333\n",
      "10 0.98\n"
     ]
    }
   ],
   "source": [
    "for k in range(1, 11):\n",
    "    scores = cross_validation.cross_val_score(KNeighborsClassifier(k), X, y, cv=5)\n",
    "    mean_score = scores.mean()\n",
    "    print(k, mean_score)"
   ]
  },
  {
   "cell_type": "code",
   "execution_count": 15,
   "metadata": {
    "collapsed": false
   },
   "outputs": [
    {
     "name": "stdout",
     "output_type": "stream",
     "text": [
      "[[  1.48194346e-253   9.90614193e-007   9.99999009e-001]\n",
      " [  1.77850116e-148   8.03952588e-002   9.19604741e-001]\n",
      " [  1.30627216e-071   9.99981590e-001   1.84096329e-005]\n",
      " [  8.08288182e-071   9.99989339e-001   1.06611739e-005]\n",
      " [  1.00000000e+000   2.42377666e-010   3.47133799e-018]\n",
      " [  1.00000000e+000   8.98413519e-019   7.18958894e-026]\n",
      " [  5.79278247e-156   5.16741348e-002   9.48325865e-001]\n",
      " [  1.00000000e+000   1.32905415e-019   1.19662491e-026]\n",
      " [  6.94353867e-176   3.82107028e-003   9.96178930e-001]\n",
      " [  1.25705760e-170   5.59664370e-001   4.40335630e-001]\n",
      " [  1.57134276e-092   9.99923353e-001   7.66470063e-005]\n",
      " [  2.52060971e-285   1.04675035e-011   1.00000000e+000]\n",
      " [  1.00000000e+000   9.81000901e-018   3.48997992e-025]\n",
      " [  2.24013141e-081   9.99852979e-001   1.47020564e-004]\n",
      " [  1.00000000e+000   5.44656213e-013   4.78341006e-020]]\n"
     ]
    }
   ],
   "source": [
    "from sklearn.naive_bayes import GaussianNB\n",
    "gnb = GaussianNB().fit(x_train, y_train)\n",
    "print(gnb.predict_proba(x_test))"
   ]
  },
  {
   "cell_type": "code",
   "execution_count": 16,
   "metadata": {
    "collapsed": false
   },
   "outputs": [
    {
     "data": {
      "text/plain": [
       "array([[  8.70658052e-07,   2.29085144e-02,   9.77090615e-01],\n",
       "       [  2.40652124e-03,   3.91867616e-01,   6.05725863e-01],\n",
       "       [  2.68654280e-02,   9.51411191e-01,   2.17233813e-02],\n",
       "       [  1.74305092e-02,   9.61918007e-01,   2.06514836e-02],\n",
       "       [  9.70725141e-01,   2.92745687e-02,   2.90123826e-07],\n",
       "       [  9.71632735e-01,   2.83672050e-02,   5.96577559e-08],\n",
       "       [  6.49643165e-04,   4.44816984e-01,   5.54533373e-01],\n",
       "       [  9.80041103e-01,   1.99588650e-02,   3.16591090e-08],\n",
       "       [  2.67129626e-04,   1.46158717e-01,   8.53574154e-01],\n",
       "       [  7.99100491e-05,   2.08109127e-01,   7.91810962e-01],\n",
       "       [  9.25891977e-03,   8.93686737e-01,   9.70543430e-02],\n",
       "       [  5.13172183e-07,   1.11152660e-02,   9.88884221e-01],\n",
       "       [  9.60106480e-01,   3.98933852e-02,   1.34727042e-07],\n",
       "       [  1.84427284e-02,   9.49342844e-01,   3.22144277e-02],\n",
       "       [  9.58294933e-01,   4.17045949e-02,   4.72135707e-07]])"
      ]
     },
     "execution_count": 16,
     "metadata": {},
     "output_type": "execute_result"
    }
   ],
   "source": [
    "from sklearn.linear_model import LogisticRegression\n",
    "lr = LogisticRegression(multi_class=\"multinomial\", solver=\"lbfgs\").fit(x_train, y_train)\n",
    "lr.predict_proba(x_test)"
   ]
  },
  {
   "cell_type": "code",
   "execution_count": 17,
   "metadata": {
    "collapsed": false
   },
   "outputs": [
    {
     "name": "stdout",
     "output_type": "stream",
     "text": [
      "lr 0.973333333333\n",
      "gnb 0.953333333333\n",
      "knn 0.98\n"
     ]
    }
   ],
   "source": [
    "models = {\n",
    "    \"knn\": KNeighborsClassifier(6),\n",
    "    \"gnb\":GaussianNB(),\n",
    "    \"lr\":LogisticRegression(multi_class=\"multinomial\", solver=\"lbfgs\")\n",
    "}\n",
    "\n",
    "for name, model in models.items():\n",
    "    score = cross_validation.cross_val_score(model, X, y, cv=5).mean()\n",
    "    print(name, score)"
   ]
  }
 ],
 "metadata": {
  "kernelspec": {
   "display_name": "Python [conda env:anaconda]",
   "language": "python",
   "name": "conda-env-anaconda-py"
  },
  "language_info": {
   "codemirror_mode": {
    "name": "ipython",
    "version": 3
   },
   "file_extension": ".py",
   "mimetype": "text/x-python",
   "name": "python",
   "nbconvert_exporter": "python",
   "pygments_lexer": "ipython3",
   "version": "3.5.2"
  }
 },
 "nbformat": 4,
 "nbformat_minor": 1
}
