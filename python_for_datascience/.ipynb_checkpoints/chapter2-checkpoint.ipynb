{
 "cells": [
  {
   "cell_type": "code",
   "execution_count": 1,
   "metadata": {
    "collapsed": true
   },
   "outputs": [],
   "source": [
    "import numpy as np"
   ]
  },
  {
   "cell_type": "code",
   "execution_count": 2,
   "metadata": {
    "collapsed": false
   },
   "outputs": [
    {
     "name": "stdout",
     "output_type": "stream",
     "text": [
      "[ 1.  2.  3.  4.]\n"
     ]
    }
   ],
   "source": [
    "x = np.array([1,2,3,4], dtype=np.float)\n",
    "print(x)"
   ]
  },
  {
   "cell_type": "code",
   "execution_count": 3,
   "metadata": {
    "collapsed": false
   },
   "outputs": [
    {
     "name": "stdout",
     "output_type": "stream",
     "text": [
      "[ 3.  5.  7.  9.]\n"
     ]
    }
   ],
   "source": [
    "y = 2.0 * x + 1.0\n",
    "print(y)"
   ]
  },
  {
   "cell_type": "code",
   "execution_count": 4,
   "metadata": {
    "collapsed": false
   },
   "outputs": [
    {
     "name": "stdout",
     "output_type": "stream",
     "text": [
      "[ 3.  4.  5.  6.]\n"
     ]
    }
   ],
   "source": [
    "y = np.array([1,1,1,1], dtype=np.float)\n",
    "z = x + 2 * y\n",
    "print(z)"
   ]
  },
  {
   "cell_type": "code",
   "execution_count": 5,
   "metadata": {
    "collapsed": false
   },
   "outputs": [
    {
     "name": "stdout",
     "output_type": "stream",
     "text": [
      "平均 :  2.5\n",
      "分散 :  1.25\n",
      "最大 :  4.0\n"
     ]
    }
   ],
   "source": [
    "print(\"平均 : \", np.mean(x))\n",
    "print(\"分散 : \", np.var(x))\n",
    "print(\"最大 : \", np.max(x))"
   ]
  },
  {
   "cell_type": "code",
   "execution_count": 6,
   "metadata": {
    "collapsed": false
   },
   "outputs": [
    {
     "name": "stdout",
     "output_type": "stream",
     "text": [
      "[[  1.   2.   3.]\n",
      " [  4.   5.   6.]\n",
      " [  7.   8.   9.]\n",
      " [ 10.  11.  12.]]\n"
     ]
    }
   ],
   "source": [
    "A = np.array([[1,2,3],\n",
    "              [4,5,6],\n",
    "              [7,8,9],\n",
    "              [10, 11, 12]], dtype=np.float)\n",
    "print(A)"
   ]
  },
  {
   "cell_type": "code",
   "execution_count": 8,
   "metadata": {
    "collapsed": false
   },
   "outputs": [
    {
     "name": "stdout",
     "output_type": "stream",
     "text": [
      "(4, 3)\n"
     ]
    }
   ],
   "source": [
    "print(A.shape)"
   ]
  },
  {
   "cell_type": "code",
   "execution_count": 9,
   "metadata": {
    "collapsed": false
   },
   "outputs": [
    {
     "name": "stdout",
     "output_type": "stream",
     "text": [
      "[[  3.   5.   7.]\n",
      " [  9.  11.  13.]\n",
      " [ 15.  17.  19.]\n",
      " [ 21.  23.  25.]]\n"
     ]
    }
   ],
   "source": [
    "B = 2 * A + 1\n",
    "print(B)"
   ]
  },
  {
   "cell_type": "code",
   "execution_count": 10,
   "metadata": {
    "collapsed": false
   },
   "outputs": [
    {
     "name": "stdout",
     "output_type": "stream",
     "text": [
      "全集計 :  12.0\n",
      "列集計 :  [ 10.  11.  12.]\n",
      "行集計 :  [  3.   6.   9.  12.]\n"
     ]
    }
   ],
   "source": [
    "print(\"全集計 : \", np.max(A))\n",
    "print(\"列集計 : \", np.max(A, axis=0))\n",
    "print(\"行集計 : \", np.max(A, axis=1))"
   ]
  },
  {
   "cell_type": "code",
   "execution_count": 11,
   "metadata": {
    "collapsed": false
   },
   "outputs": [
    {
     "name": "stdout",
     "output_type": "stream",
     "text": [
      "[[  1.   3.   5.]\n",
      " [  6.   8.  10.]]\n"
     ]
    }
   ],
   "source": [
    "A = np.array([[1,2,3],\n",
    "              [4,5,6]], dtype=np.float)\n",
    "B = np.array([[0,1,2],\n",
    "              [2,3,4]], dtype=np.float)\n",
    "print(A + B)"
   ]
  },
  {
   "cell_type": "code",
   "execution_count": 12,
   "metadata": {
    "collapsed": false
   },
   "outputs": [
    {
     "ename": "ValueError",
     "evalue": "operands could not be broadcast together with shapes (2,3) (2,2) ",
     "output_type": "error",
     "traceback": [
      "\u001b[0;31m---------------------------------------------------------------------------\u001b[0m",
      "\u001b[0;31mValueError\u001b[0m                                Traceback (most recent call last)",
      "\u001b[0;32m<ipython-input-12-e4512f89f1c6>\u001b[0m in \u001b[0;36m<module>\u001b[0;34m()\u001b[0m\n\u001b[1;32m      1\u001b[0m C = np.array([[0,1],\n\u001b[1;32m      2\u001b[0m               [2,3]], dtype=np.float)\n\u001b[0;32m----> 3\u001b[0;31m \u001b[0mprint\u001b[0m\u001b[0;34m(\u001b[0m\u001b[0mA\u001b[0m \u001b[0;34m+\u001b[0m \u001b[0mC\u001b[0m\u001b[0;34m)\u001b[0m\u001b[0;34m\u001b[0m\u001b[0m\n\u001b[0m",
      "\u001b[0;31mValueError\u001b[0m: operands could not be broadcast together with shapes (2,3) (2,2) "
     ]
    }
   ],
   "source": [
    "C = np.array([[0,1],\n",
    "              [2,3]], dtype=np.float)\n",
    "print(A + C)"
   ]
  },
  {
   "cell_type": "code",
   "execution_count": 13,
   "metadata": {
    "collapsed": true
   },
   "outputs": [],
   "source": [
    "import pandas as pd\n",
    "d = pd.DataFrame({\n",
    "        \"a\" : [1, 2, 3],\n",
    "        \"x\" : [1.0, -1.5, 2.5],\n",
    "        \"label\" : [\"l1\", \"l2\", \"l3\"]\n",
    "})"
   ]
  },
  {
   "cell_type": "code",
   "execution_count": 14,
   "metadata": {
    "collapsed": false
   },
   "outputs": [
    {
     "name": "stdout",
     "output_type": "stream",
     "text": [
      "0    1\n",
      "1    2\n",
      "2    3\n",
      "Name: a, dtype: int64\n"
     ]
    }
   ],
   "source": [
    "print(d[\"a\"])"
   ]
  },
  {
   "cell_type": "code",
   "execution_count": 15,
   "metadata": {
    "collapsed": false
   },
   "outputs": [
    {
     "name": "stdout",
     "output_type": "stream",
     "text": [
      "   a    x label\n",
      "0  1  1.0    l1\n",
      "1  2 -1.5    l2\n",
      "2  3  2.5    l3\n"
     ]
    }
   ],
   "source": [
    "print(d[[\"a\", \"x\", \"label\"]])"
   ]
  },
  {
   "cell_type": "code",
   "execution_count": 16,
   "metadata": {
    "collapsed": false
   },
   "outputs": [
    {
     "name": "stdout",
     "output_type": "stream",
     "text": [
      "   a label    x  new_col\n",
      "0  1    l1  1.0       10\n",
      "1  2    l2 -1.5      100\n",
      "2  3    l3  2.5     1000\n"
     ]
    }
   ],
   "source": [
    "d[\"new_col\"] = [10, 100, 1000]\n",
    "print(d)"
   ]
  },
  {
   "cell_type": "code",
   "execution_count": 17,
   "metadata": {
    "collapsed": false
   },
   "outputs": [
    {
     "name": "stdout",
     "output_type": "stream",
     "text": [
      "mean of a =  2.0\n",
      "std of x =  2.0207259421636903\n"
     ]
    }
   ],
   "source": [
    "print(\"mean of a = \", d[\"a\"].mean())\n",
    "print(\"std of x = \", d[\"x\"].std())"
   ]
  }
 ],
 "metadata": {
  "anaconda-cloud": {},
  "kernelspec": {
   "display_name": "Python [conda env:anaconda]",
   "language": "python",
   "name": "conda-env-anaconda-py"
  },
  "language_info": {
   "codemirror_mode": {
    "name": "ipython",
    "version": 3
   },
   "file_extension": ".py",
   "mimetype": "text/x-python",
   "name": "python",
   "nbconvert_exporter": "python",
   "pygments_lexer": "ipython3",
   "version": "3.5.2"
  }
 },
 "nbformat": 4,
 "nbformat_minor": 1
}
